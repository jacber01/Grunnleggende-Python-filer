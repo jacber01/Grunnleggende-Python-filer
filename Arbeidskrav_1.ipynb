{
 "cells": [
  {
   "cell_type": "markdown",
   "id": "6f3a5c0c",
   "metadata": {},
   "source": [
    "# Arbeidskrav 1"
   ]
  },
  {
   "cell_type": "markdown",
   "id": "dfcf6ef7",
   "metadata": {},
   "source": [
    "Oppgave\n",
    "\n",
    "Anta at du skal kjøpe bil. Det står mellom elbil og bensinbil, og du ønsker å sammenlikne de årlige kostnadene ved elbil sammenliknet med bensinbil.\n",
    "\n",
    "Lag et Python-program som beregner og presenterer (i konsollen) de årlige totalkostnadene for elbil og for bensinbil samt årlig kostnadsdifferanse basert på informasjonen gitt nedenfor. Du kan her for enkelhets skyld se bort fra kostnader som renter på billån og verditap (du har da egentlig antatt at slike kostnader er like for elbil og bensinbil).\n",
    "\n",
    "Nedenfor er informasjon som programmet skal baseres på (som selvsagt kan diskuteres, men ikke ifm. denne oppgaven 🙂\n",
    "\n",
    "Du kan selv velge antall kjørte km/år ut fra din typiske bilbruk. Ev. (hvis du ikke har bil) kan du anta 10.000 km.\n",
    "\n",
    "Forsikring: Elbil: 5000 kr/år. Bensinbil: 7500 kr/år.\n",
    "\n",
    "Trafikkforsikringsavgift: 8,38 kr/dag for både elbil og bensinbil.\n",
    "\n",
    "Drivstoffbruk: Elbil: 0,2 kWh/km. Strømpris (antar kun hjemmelading): 2.00 kr/kWh. Bensinbil: 1,0 kr/km.\n",
    "\n",
    "Bomavgift: Elbil: 0,1 kr/km. Bensinbil: 0,3 kr/km.\n"
   ]
  },
  {
   "cell_type": "code",
   "execution_count": 35,
   "id": "33554410",
   "metadata": {},
   "outputs": [],
   "source": [
    "yd = 10000 # årlig distanse per år i km \n",
    "\n",
    "forsikring_el = 5000 # forsikring elbil i kr per år\n",
    "forsikring_bensin = 7500 # forsikring bensin i kr per år\n",
    "\n",
    "forsikring_trafikk = 8.38*365 # forsikring for trafikk i kr per år\n",
    "\n",
    "forbruk_strom = 0.2 # forbruk strøm (kWh per km)\n",
    "pris_strom = 2 # pris for strøm i kr per kWh\n",
    "\n",
    "pris_bensin = 1 # bensinpris i kr per km\n",
    "\n",
    "bom_el = 0.1 #bompris i kr per km for elbil\n",
    "bom_bensin = 0.3 #bompris i kr per km for bensin"
   ]
  },
  {
   "cell_type": "code",
   "execution_count": 41,
   "id": "beed2be9",
   "metadata": {},
   "outputs": [],
   "source": [
    "FK_elbil = forsikring_el + forsikring_trafikk # Faste kostnader elbil per år\n",
    "FK_bensin = forsikring_bensin + forsikring_trafikk # Faste kostnader bensinbil per år"
   ]
  },
  {
   "cell_type": "code",
   "execution_count": 42,
   "id": "c0269050",
   "metadata": {},
   "outputs": [],
   "source": [
    "VK_elbil = (forbruk_strom * yd * pris_strom) + (bom_el * yd) # Variable kostnader elbil per år\n",
    "VK_bensin = (pris_bensin * yd) + (bom_bensin * yd) # Variable kostnader bensinbil per år"
   ]
  },
  {
   "cell_type": "code",
   "execution_count": 44,
   "id": "d9561f98",
   "metadata": {},
   "outputs": [],
   "source": [
    "arlig_kostnad_el = FK_elbil + VK_elbil # Årlig kostnad elbil\n",
    "arlig_kostnad_bensin = FK_bensin + VK_bensin # Årlig kostnad bensinbil\n"
   ]
  },
  {
   "cell_type": "code",
   "execution_count": 45,
   "id": "0993109f",
   "metadata": {},
   "outputs": [
    {
     "name": "stdout",
     "output_type": "stream",
     "text": [
      "Årlig kostnad elbil: 13058.7 kr\n",
      "Årlig kostnad bensinbil: 23558.7 kr\n"
     ]
    }
   ],
   "source": [
    "print(\"Årlig kostnad elbil:\", arlig_kostnad_el, \"kr\")\n",
    "print(\"Årlig kostnad bensinbil:\", arlig_kostnad_bensin, \"kr\")"
   ]
  },
  {
   "cell_type": "code",
   "execution_count": null,
   "id": "bc4d35a6",
   "metadata": {},
   "outputs": [
    {
     "name": "stdout",
     "output_type": "stream",
     "text": [
      "Elbil er billigere enn bensinbil med 10500.0 kr per år\n"
     ]
    }
   ],
   "source": [
    "### Årlig kostnadsforskjell\n",
    "aarlig_kostnadsforskjell = arlig_kostnad_bensin - arlig_kostnad_el\n",
    "if aarlig_kostnadsforskjell > 0:\n",
    "    print(\"Elbil er billigere enn bensinbil med\", aarlig_kostnadsforskjell, \"kr per år\")\n",
    "elif aarlig_kostnadsforskjell < 0:\n",
    "    print(\"Bensinbil er billigere enn elbil med\", -aarlig_kostnadsforskjell, \"kr per år\")"
   ]
  },
  {
   "cell_type": "code",
   "execution_count": null,
   "id": "a8423ef4",
   "metadata": {},
   "outputs": [],
   "source": []
  }
 ],
 "metadata": {
  "kernelspec": {
   "display_name": "venv (3.9.6)",
   "language": "python",
   "name": "python3"
  },
  "language_info": {
   "codemirror_mode": {
    "name": "ipython",
    "version": 3
   },
   "file_extension": ".py",
   "mimetype": "text/x-python",
   "name": "python",
   "nbconvert_exporter": "python",
   "pygments_lexer": "ipython3",
   "version": "3.9.6"
  }
 },
 "nbformat": 4,
 "nbformat_minor": 5
}
